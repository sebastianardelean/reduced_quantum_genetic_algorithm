{
 "cells": [
  {
   "cell_type": "markdown",
   "metadata": {
    "id": "YCw9Wpy8VLpD"
   },
   "source": [
    "# Knapsack results - pure RQGA (saci2022)"
   ]
  },
  {
   "cell_type": "markdown",
   "metadata": {
    "id": "xSnY-We_Hzig"
   },
   "source": [
    "Thanks to https://regex101.com/"
   ]
  },
  {
   "cell_type": "code",
   "execution_count": 1,
   "metadata": {
    "executionInfo": {
     "elapsed": 271,
     "status": "ok",
     "timestamp": 1643918550154,
     "user": {
      "displayName": "Sebastian Mihai Ardelean",
      "photoUrl": "https://lh3.googleusercontent.com/a-/AOh14GinxPC8kSw3BSqwmcEZRaHrMR2ognwGNTKx7alulA=s64",
      "userId": "02554172216781757611"
     },
     "user_tz": -120
    },
    "id": "nVsdiFDgVRGN"
   },
   "outputs": [],
   "source": [
    "import numpy as np\n",
    "import matplotlib.pyplot as plt\n",
    "import re\n",
    "from functools import reduce\n",
    "import math\n",
    "import ast"
   ]
  },
  {
   "cell_type": "code",
   "execution_count": 2,
   "metadata": {
    "executionInfo": {
     "elapsed": 2,
     "status": "ok",
     "timestamp": 1643918550407,
     "user": {
      "displayName": "Sebastian Mihai Ardelean",
      "photoUrl": "https://lh3.googleusercontent.com/a-/AOh14GinxPC8kSw3BSqwmcEZRaHrMR2ognwGNTKx7alulA=s64",
      "userId": "02554172216781757611"
     },
     "user_tz": -120
    },
    "id": "UZPMufjGVaf2"
   },
   "outputs": [],
   "source": [
    "from collections import namedtuple\n",
    "ItemConfiguration = namedtuple('Item', 'm,v')"
   ]
  },
  {
   "cell_type": "code",
   "execution_count": 3,
   "metadata": {
    "executionInfo": {
     "elapsed": 8,
     "status": "ok",
     "timestamp": 1643918552205,
     "user": {
      "displayName": "Sebastian Mihai Ardelean",
      "photoUrl": "https://lh3.googleusercontent.com/a-/AOh14GinxPC8kSw3BSqwmcEZRaHrMR2ognwGNTKx7alulA=s64",
      "userId": "02554172216781757611"
     },
     "user_tz": -120
    },
    "id": "J-HKAx6MVced"
   },
   "outputs": [],
   "source": [
    "NO_OF_QUBITS_FITNESS = 8\n",
    "NO_OF_QUBITS_INDIVIDUAL = 4\n",
    "POPULATION_SIZE = 2**NO_OF_QUBITS_INDIVIDUAL\n",
    "NO_OF_MAX_GROVER_ITERATIONS = int(math.sqrt(2**NO_OF_QUBITS_FITNESS-1))\n",
    "BEST_SOLUTION=18"
   ]
  },
  {
   "cell_type": "code",
   "execution_count": 4,
   "metadata": {
    "executionInfo": {
     "elapsed": 6,
     "status": "ok",
     "timestamp": 1643918552206,
     "user": {
      "displayName": "Sebastian Mihai Ardelean",
      "photoUrl": "https://lh3.googleusercontent.com/a-/AOh14GinxPC8kSw3BSqwmcEZRaHrMR2ognwGNTKx7alulA=s64",
      "userId": "02554172216781757611"
     },
     "user_tz": -120
    },
    "id": "FUYmnykrVeGu"
   },
   "outputs": [],
   "source": [
    "MAX_ALLOWED_MASS = 10\n",
    "TOTAL_VALUE = 22\n",
    "items = [ItemConfiguration(3, 3),ItemConfiguration(2, 5),ItemConfiguration(4, 10),ItemConfiguration(7, 4)]"
   ]
  },
  {
   "cell_type": "code",
   "execution_count": 5,
   "metadata": {
    "executionInfo": {
     "elapsed": 3,
     "status": "ok",
     "timestamp": 1643918553227,
     "user": {
      "displayName": "Sebastian Mihai Ardelean",
      "photoUrl": "https://lh3.googleusercontent.com/a-/AOh14GinxPC8kSw3BSqwmcEZRaHrMR2ognwGNTKx7alulA=s64",
      "userId": "02554172216781757611"
     },
     "user_tz": -120
    },
    "id": "s5iNKQrLVfzW"
   },
   "outputs": [],
   "source": [
    "def fitness_function(mass,value):\n",
    "    return int(value - (TOTAL_VALUE+1)*divmod(mass,MAX_ALLOWED_MASS)[0])\n",
    "\n",
    "def calculate_individual_fitness(individual_bin_configuration):\n",
    "    calculated_mass = 0\n",
    "    calculated_value = 0\n",
    "    for i in range(0, NO_OF_QUBITS_INDIVIDUAL):\n",
    "        if individual_bin_configuration[i]==1:\n",
    "            calculated_mass += items[i].m\n",
    "            calculated_value += items[i].v\n",
    "    fitness_value = fitness_function(calculated_mass,calculated_value)\n",
    "    if calculated_mass < MAX_ALLOWED_MASS:\n",
    "        return True, fitness_value\n",
    "    else:\n",
    "        return False,fitness_value\n",
    "\n",
    "def knapSack(max_weight, items,no_of_items):\n",
    "             #weight_item, value_item, no_of_items):\n",
    "  \n",
    "    # Base Case\n",
    "    if no_of_items == 0 or max_weight == 0 :\n",
    "        return 0\n",
    "  \n",
    "    # If weight of the nth item is more than Knapsack of capacity\n",
    "    # W, then this item cannot be included in the optimal solution\n",
    "    if (items[no_of_items-1].m > max_weight):\n",
    "        return knapSack(max_weight, items, no_of_items-1)\n",
    "  \n",
    "    # return the maximum of two cases:\n",
    "    # (1) nth item included\n",
    "    # (2) not included\n",
    "    else:\n",
    "        return max(items[no_of_items-1].v + knapSack(max_weight-items[no_of_items-1].m, items, no_of_items-1),\n",
    "                   knapSack(max_weight, items, no_of_items-1))    \n",
    "def string_to_list(string):\n",
    "    return_list = []\n",
    "    for i in string:\n",
    "        if i != \" \" and i !=\",\":\n",
    "            return_list.append(int(i))\n",
    "    return return_list     \n",
    " \n",
    "\n",
    "def calculate_weight(individual_bin_configuration):\n",
    "    calculated_mass = 0\n",
    "    for i in range(0, NO_OF_QUBITS_INDIVIDUAL):\n",
    "        if individual_bin_configuration[i]==1:\n",
    "            calculated_mass += items[i].m\n",
    "    return calculated_mass"
   ]
  },
  {
   "cell_type": "code",
   "execution_count": 7,
   "metadata": {
    "executionInfo": {
     "elapsed": 2,
     "status": "ok",
     "timestamp": 1643918553550,
     "user": {
      "displayName": "Sebastian Mihai Ardelean",
      "photoUrl": "https://lh3.googleusercontent.com/a-/AOh14GinxPC8kSw3BSqwmcEZRaHrMR2ognwGNTKx7alulA=s64",
      "userId": "02554172216781757611"
     },
     "user_tz": -120
    },
    "id": "ua7J4ALWVklG"
   },
   "outputs": [],
   "source": [
    "def plot_me(graph_nx,figure_title,color_pairs, colored=False):\n",
    "    if colored == True:\n",
    "        colors = [((0,0),'lightcoral'),((0,1),'skyblue'),((1,0),'mediumseagreen')]\n",
    "        color_list = []\n",
    "        for pair in color_pairs:\n",
    "            for entry in colors:\n",
    "                if pair==entry[0]:\n",
    "                    color_list.append(entry[1])\n",
    "        nx.draw_networkx(graph_nx, with_labels=True, node_color=color_list,node_size=1500,width = 7,font_weight='bold',font_size=14,edgecolors=\"black\",linewidths =2.0)\n",
    "    else:\n",
    "        color_list = ['skyblue']\n",
    "        nx.draw_networkx(graph_nx, with_labels=True,node_color= color_list,node_size=1500,width = 7,font_weight='bold',font_size=14,edgecolors=\"black\",linewidths =2.0)\n",
    "    plt.title(figure_title)\n",
    "    plt.axis('off')\n",
    "    axis = plt.gca()\n",
    "    axis.set_xlim([2*x for x in axis.get_xlim()])\n",
    "    axis.set_ylim([2*y for y in axis.get_ylim()])\n",
    "    plt.tight_layout()\n",
    "    plt.draw()\n",
    "    \n",
    "def plot_results(measurements,filename,title):\n",
    "    generations_list = []\n",
    "    valid_solutions_list =[]\n",
    "    best_solutions_list = []\n",
    "    best_solution = []\n",
    "    generation=0\n",
    "\n",
    "    no_of_valid_solutions = 0\n",
    "    best_solution_count = 0\n",
    "    for entry in measurements:\n",
    "      generation+=1\n",
    "      solution = string_to_list(entry[0]) [6:]\n",
    "      valid,fitness_value = calculate_individual_fitness(solution)\n",
    "            \n",
    "      if valid == True:\n",
    "          no_of_valid_solutions +=1\n",
    "      if valid == True and fitness_value == knapSack(MAX_ALLOWED_MASS, items, len(items)):\n",
    "          best_solution.append(solution)\n",
    "          best_solution_count += 1 \n",
    "      generations_list.append(generation)\n",
    "      valid_solutions_list.append(no_of_valid_solutions)\n",
    "      best_solutions_list.append(best_solution_count)\n",
    "    fig, ax = plt.subplots()\n",
    "    ax.plot(generations_list, valid_solutions_list,'ko--', label=\"Number of Valid Solutions\")\n",
    "    ax.plot(generations_list, best_solutions_list,'k^-', label=\"Number of Best Solutions\")\n",
    "    ax.legend()\n",
    "    ax.grid()\n",
    "    ax.set_xlabel(\"Number of RQGA Generations\",fontsize=16)\n",
    "    ax.set_ylabel(\"Number of solutions\",fontsize=16)\n",
    "    plt.title(title)\n",
    "    plt.rcParams[\"font.family\"] = \"Times New Roman\"\n",
    "    plt.rcParams[\"font.size\"] = \"14\"\n",
    "    plt.xticks(generations_list)\n",
    "    plt.show()\n",
    "    #fig.savefig(filename)\n",
    "    return best_solution\n",
    "def hat_graph(ax, xlabels, values, group_labels):\n",
    "    \"\"\"\n",
    "    Create a hat graph.\n",
    "\n",
    "    Parameters\n",
    "    ----------\n",
    "    ax : matplotlib.axes.Axes\n",
    "        The Axes to plot into.\n",
    "    xlabels : list of str\n",
    "        The category names to be displayed on the x-axis.\n",
    "    values : (M, N) array-like\n",
    "        The data values.\n",
    "        Rows are the groups (len(group_labels) == M).\n",
    "        Columns are the categories (len(xlabels) == N).\n",
    "    group_labels : list of str\n",
    "        The group labels displayed in the legend.\n",
    "    \"\"\"\n",
    "\n",
    "    def label_bars(heights, rects):\n",
    "        \"\"\"Attach a text label on top of each bar.\"\"\"\n",
    "        for height, rect in zip(heights, rects):\n",
    "            ax.annotate(f'{height}',\n",
    "                        xy=(rect.get_x() + rect.get_width() / 2, height),\n",
    "                        xytext=(0, 4),  # 4 points vertical offset.\n",
    "                        textcoords='offset points',\n",
    "                        ha='center', va='bottom')\n",
    "\n",
    "    values = np.asarray(values)\n",
    "    x = np.arange(values.shape[1])\n",
    "    ax.set_xticks(x)\n",
    "    ax.set_xticklabels(xlabels)\n",
    "    spacing = 0.3  # spacing between hat groups\n",
    "    width = (1 - spacing) / values.shape[0]\n",
    "    heights0 = values[0]\n",
    "    for i, (heights, group_label) in enumerate(zip(values, group_labels)):\n",
    "        style = {'fill': False} if i == 0 else {'edgecolor': 'black','color':'grey'}\n",
    "        rects = ax.bar(x - spacing/2 + i * width, heights - heights0,\n",
    "                       width, bottom=heights0, label=group_label, **style)\n",
    "        label_bars(heights, rects)"
   ]
  },
  {
   "cell_type": "code",
   "execution_count": 8,
   "metadata": {
    "executionInfo": {
     "elapsed": 2,
     "status": "ok",
     "timestamp": 1643918553851,
     "user": {
      "displayName": "Sebastian Mihai Ardelean",
      "photoUrl": "https://lh3.googleusercontent.com/a-/AOh14GinxPC8kSw3BSqwmcEZRaHrMR2ognwGNTKx7alulA=s64",
      "userId": "02554172216781757611"
     },
     "user_tz": -120
    },
    "id": "x7ITYt1kqHFb"
   },
   "outputs": [],
   "source": [
    "EXTRACT_MH_GENERATIONS_REGEX = r\"Best individual found after (\\d+)\"\n",
    "\n",
    "EXTRACT_SOLUTIONS_REGEX = r\"\\[((\\([\\d]+(,\\s)[\\d]+\\))+((,\\s)|(\\])))+\"\n",
    "\n",
    "EXTRACT_TUPLES_REGEX = r\"([\\d]+), ([\\d]+)\""
   ]
  },
  {
   "cell_type": "code",
   "execution_count": 9,
   "metadata": {
    "executionInfo": {
     "elapsed": 2,
     "status": "ok",
     "timestamp": 1643918554078,
     "user": {
      "displayName": "Sebastian Mihai Ardelean",
      "photoUrl": "https://lh3.googleusercontent.com/a-/AOh14GinxPC8kSw3BSqwmcEZRaHrMR2ognwGNTKx7alulA=s64",
      "userId": "02554172216781757611"
     },
     "user_tz": -120
    },
    "id": "LObp1voGDSpW"
   },
   "outputs": [],
   "source": [
    "def parse_number_of_generations(regex_pattern, text):\n",
    "  pattern = compile(regex_pattern)\n",
    "  generations = []\n",
    "  for match in pattern.finditer(text):\n",
    "    generations.append(int(match.group(1)))\n",
    "  \n",
    "  return sum(generations)//len(generations)\n",
    "\n",
    "def extract_tuples(regex_pattern, line):\n",
    "  matches = re.finditer(EXTRACT_TUPLES_REGEX, line, re.MULTILINE)\n",
    "  solutions = []\n",
    "  \n",
    "  for matchNum, match in enumerate(matches, start=1):\n",
    "    match_value = []\n",
    "    \n",
    "    for groupNum in range(0, len(match.groups())):\n",
    "        groupNum = groupNum + 1\n",
    "        match_value.append(match.group(groupNum))\n",
    "    # print (list(match_value))\n",
    "    solutions.append((int(match_value[0]),int(match_value[1])))\n",
    "  return solutions\n",
    "\n",
    "def parse_solutions(regex_pattern,text):\n",
    "  matches = re.finditer(regex_pattern, text, re.MULTILINE)\n",
    "  lines = []\n",
    "  for matchNum, match in enumerate(matches, start=1):\n",
    "    lines.append(match.group())\n",
    "  return lines\n",
    "  "
   ]
  },
  {
   "cell_type": "code",
   "execution_count": 10,
   "metadata": {
    "executionInfo": {
     "elapsed": 2,
     "status": "ok",
     "timestamp": 1643918555102,
     "user": {
      "displayName": "Sebastian Mihai Ardelean",
      "photoUrl": "https://lh3.googleusercontent.com/a-/AOh14GinxPC8kSw3BSqwmcEZRaHrMR2ognwGNTKx7alulA=s64",
      "userId": "02554172216781757611"
     },
     "user_tz": -120
    },
    "id": "ASrL1RalQ8jf"
   },
   "outputs": [],
   "source": [
    "def no_of_solutions(measurements):\n",
    "    generation=0\n",
    "\n",
    "    solutions=[]\n",
    "    for entry in measurements:\n",
    "        no_of_valid_solutions = 0\n",
    "        no_of_best_solutions = 0\n",
    "        if entry[1]==BEST_SOLUTION:\n",
    "          no_of_best_solutions+=1\n",
    "        elif entry[1]>0:\n",
    "          no_of_valid_solutions+=1\n",
    "        solutions.append((entry[0],no_of_valid_solutions,no_of_best_solutions))\n",
    "    return solutions"
   ]
  },
  {
   "cell_type": "markdown",
   "metadata": {
    "id": "xl6BSwAdBlp6"
   },
   "source": [
    "# Results Pure Knapsack saci 2022"
   ]
  },
  {
   "cell_type": "code",
   "execution_count": 11,
   "metadata": {
    "colab": {
     "base_uri": "https://localhost:8080/"
    },
    "executionInfo": {
     "elapsed": 5,
     "status": "ok",
     "timestamp": 1643918556446,
     "user": {
      "displayName": "Sebastian Mihai Ardelean",
      "photoUrl": "https://lh3.googleusercontent.com/a-/AOh14GinxPC8kSw3BSqwmcEZRaHrMR2ognwGNTKx7alulA=s64",
      "userId": "02554172216781757611"
     },
     "user_tz": -120
    },
    "id": "7sCEvV0sDr0N",
    "outputId": "1858c850-4e2e-4048-993b-5a85ea99a1ce",
    "scrolled": true
   },
   "outputs": [
    {
     "name": "stdout",
     "output_type": "stream",
     "text": [
      "[(1, 79, 4), (2, 73, 2), (3, 69, 5), (4, 67, 2), (5, 53, 5), (6, 51, 5), (7, 52, 5), (8, 0, 0), (9, 0, 0), (10, 0, 0)]\n"
     ]
    }
   ],
   "source": [
    "filename = \"rqga_pure_knapsack_results.txt\"\n",
    "\n",
    "filtered_solutions = []\n",
    "\n",
    "content = \"\"\n",
    "with open(filename) as f:\n",
    "    content = f.readlines()\n",
    "    log=\"\"\n",
    "    log = log.join(content)  \n",
    "    \n",
    "    lines = parse_solutions(EXTRACT_SOLUTIONS_REGEX,log)\n",
    "    # print(lines)\n",
    "    for line in lines:\n",
    "        measurement=extract_tuples(EXTRACT_TUPLES_REGEX, line)\n",
    "        #print(measurement)\n",
    "        #(generation    Valid    Best)\n",
    "        best_solution = no_of_solutions(measurement)\n",
    "        #print(best_solution)\n",
    "        for solution in best_solution:\n",
    "          if solution[2]!=0 or solution[1]!=0:\n",
    "            filtered_solutions.append(solution)\n",
    "\n",
    "final_solutions = []\n",
    "for i in range(1,11):\n",
    "    number_of_valid_solutions = reduce(lambda x,y: x+y[1] if y[0]==i else x+0, filtered_solutions, 0)\n",
    "  \n",
    "    number_of_best_solutions = reduce(lambda x,y: x+y[2] if y[0]==i else x+0, filtered_solutions, 0)\n",
    "    final_solutions.append((i,number_of_valid_solutions,number_of_best_solutions))\n",
    "print(f\"{final_solutions}\")\n"
   ]
  },
  {
   "cell_type": "code",
   "execution_count": 105,
   "metadata": {
    "colab": {
     "base_uri": "https://localhost:8080/",
     "height": 514
    },
    "executionInfo": {
     "elapsed": 945,
     "status": "ok",
     "timestamp": 1643918596738,
     "user": {
      "displayName": "Sebastian Mihai Ardelean",
      "photoUrl": "https://lh3.googleusercontent.com/a-/AOh14GinxPC8kSw3BSqwmcEZRaHrMR2ognwGNTKx7alulA=s64",
      "userId": "02554172216781757611"
     },
     "user_tz": -120
    },
    "id": "B7CeLKCzWNgn",
    "outputId": "2efdd6d0-f989-43bd-8092-0211a01feb93"
   },
   "outputs": [
    {
     "data": {
      "image/png": "[encoded data removed]",
      "text/plain": [
       "<Figure size 1080x504 with 1 Axes>"
      ]
     },
     "metadata": {
      "needs_background": "light"
     },
     "output_type": "display_data"
    }
   ],
   "source": [
    "generations_list = list(map(lambda x: x[0], final_solutions))\n",
    "valid_solutions_list = list(map(lambda x: x[1], final_solutions))\n",
    "best_solutions_list = list(map(lambda x: x[2], final_solutions))\n",
    "title = \"Number of solutions found after 100 simulations\"\n",
    "plt.rcParams[\"figure.figsize\"] = (15, 7)\n",
    "plt.rcParams[\"font.family\"] = \"Times New Roman\"\n",
    "plt.rcParams[\"font.size\"] = \"30\"\n",
    "fig, ax = plt.subplots()\n",
    "ax.plot(generations_list, valid_solutions_list,'ko--', label=\"Number of Valid Solutions\")\n",
    "ax.plot(generations_list, best_solutions_list,'k^-', label=\"Number of Best Solutions\")\n",
    "ax.legend()\n",
    "ax.grid()\n",
    "ax.set_xlabel(\"Number of RQGA Generations\",fontsize=30)\n",
    "ax.set_ylabel(\"Number of solutions\",fontsize=30)\n",
    "plt.title(title)\n",
    "plt.xticks(generations_list)\n",
    "plt.show()\n",
    "fig.savefig(\"/content/drive/MyDrive/Colab Notebooks/results/results_knapsack_pure_solutions.pdf\")"
   ]
  },
  {
   "cell_type": "code",
   "execution_count": null,
   "metadata": {
    "id": "LyT2T6gTE8sd"
   },
   "outputs": [],
   "source": []
  }
 ],
 "metadata": {
  "colab": {
   "collapsed_sections": [],
   "name": "drive_knapsack_pure_saci2022_results_parsed.ipynb",
   "provenance": [
    {
     "file_id": "https://github.com/sebastianardelean/rqga_metaheuristic/blob/master/knapsack_results_parsed.ipynb",
     "timestamp": 1639488605922
    }
   ]
  },
  "kernelspec": {
   "display_name": "Python 3 (ipykernel)",
   "language": "python",
   "name": "python3"
  },
  "language_info": {
   "codemirror_mode": {
    "name": "ipython",
    "version": 3
   },
   "file_extension": ".py",
   "mimetype": "text/x-python",
   "name": "python",
   "nbconvert_exporter": "python",
   "pygments_lexer": "ipython3",
   "version": "3.9.7"
  }
 },
 "nbformat": 4,
 "nbformat_minor": 4
}
